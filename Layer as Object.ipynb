{
 "cells": [
  {
   "cell_type": "code",
   "execution_count": 3,
   "metadata": {},
   "outputs": [],
   "source": [
    "import numpy as np"
   ]
  },
  {
   "cell_type": "code",
   "execution_count": 18,
   "metadata": {},
   "outputs": [],
   "source": [
    "np.random.seed(0)"
   ]
  },
  {
   "cell_type": "code",
   "execution_count": 19,
   "metadata": {},
   "outputs": [],
   "source": [
    "def generate_neurons_weights(inputs_count, neurons_count):\n",
    "    return np.random.randn(inputs_count, neurons_count) * 0.10\n",
    "    # generate an array of shape (inputs_count, neurons_count) of random values and scale them down to make between -1 and 1\n",
    "    \n",
    "def generate_biases(neurons_count):\n",
    "    return np.zeros((1, neurons_count)) # generate an array of shape (1, neurons_count) filled with zeros\n",
    "    # the zeros can be replaced with other weights in some cases. However, the zeros are a standard "
   ]
  },
  {
   "cell_type": "code",
   "execution_count": 20,
   "metadata": {},
   "outputs": [],
   "source": [
    "class Layer_Dense():\n",
    "    def __init__(self, inputs_count, neurons_count):\n",
    "        self.weights = generate_neurons_weights(inputs_count, neurons_count)\n",
    "        self.biases = generate_biases(neurons_count)\n",
    "    def forward(self, inputs):\n",
    "        self.output = np.dot(inputs, self.weights) + self.biases"
   ]
  },
  {
   "cell_type": "code",
   "execution_count": 21,
   "metadata": {},
   "outputs": [],
   "source": [
    "X = [[1, 2, 3, 2.5],\n",
    "     [2.0, 5.0, -1.0, 2.0],\n",
    "     [-1.5, 2.7, 3.3, -0.8]]"
   ]
  },
  {
   "cell_type": "code",
   "execution_count": 22,
   "metadata": {},
   "outputs": [],
   "source": [
    "layer1 = Layer_Dense(4, 5) # the number of features in the input is 4\n",
    "                           # the number of nerouns in the first layer is 5 for example\n",
    "    \n",
    "layer2 = Layer_Dense(5, 2) # the number of nerouns for layer 2 input must be the same as the output of layer 1\n",
    "\n",
    "layer1.forward(X)\n",
    "layer2.forward(layer1.output)"
   ]
  },
  {
   "cell_type": "code",
   "execution_count": 23,
   "metadata": {},
   "outputs": [
    {
     "data": {
      "text/plain": [
       "array([[ 0.148296  , -0.08397602],\n",
       "       [ 0.14100315, -0.01340469],\n",
       "       [ 0.20124979, -0.07290616]])"
      ]
     },
     "execution_count": 23,
     "metadata": {},
     "output_type": "execute_result"
    }
   ],
   "source": [
    "layer2.output\n",
    "# the output is the 2 output values for each input (3 inputs)"
   ]
  },
  {
   "cell_type": "code",
   "execution_count": null,
   "metadata": {},
   "outputs": [],
   "source": []
  }
 ],
 "metadata": {
  "kernelspec": {
   "display_name": "Python 3",
   "language": "python",
   "name": "python3"
  },
  "language_info": {
   "codemirror_mode": {
    "name": "ipython",
    "version": 3
   },
   "file_extension": ".py",
   "mimetype": "text/x-python",
   "name": "python",
   "nbconvert_exporter": "python",
   "pygments_lexer": "ipython3",
   "version": "3.8.5"
  }
 },
 "nbformat": 4,
 "nbformat_minor": 4
}
