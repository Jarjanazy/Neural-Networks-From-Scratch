{
 "cells": [
  {
   "cell_type": "code",
   "execution_count": 3,
   "metadata": {},
   "outputs": [],
   "source": [
    "import numpy as np"
   ]
  },
  {
   "cell_type": "code",
   "execution_count": 5,
   "metadata": {},
   "outputs": [],
   "source": [
    "np.random.seed(0)"
   ]
  },
  {
   "cell_type": "code",
   "execution_count": 7,
   "metadata": {},
   "outputs": [],
   "source": [
    "def generate_neurons_weights(inputs_count, neurons_count):\n",
    "    return np.random.randn(inputs_count, neurons_count) * 0.1\n",
    "    # generate an array of shape (inputs_count, neurons_count) of random values and scale them down to make between -1 and 1\n",
    "    \n",
    "def generate_biases(neurons_count):\n",
    "    return np.zeros(1, neurons_count) # generate an array of shape (1, neurons_count) filled with zeros\n",
    "    # the zeros can be replaced with other weights in some cases. However, the zeros are a standart "
   ]
  },
  {
   "cell_type": "code",
   "execution_count": null,
   "metadata": {},
   "outputs": [],
   "source": [
    "class Layer_Dense():\n",
    "    def __init__(self, inputs_count, neurons_count):\n",
    "        self.weights = generate_neurons_weights(inputs_count, neurons_count)\n",
    "        self.biases = generate_biases(neurons_count)\n",
    "    def pass(self):\n",
    "        pass"
   ]
  }
 ],
 "metadata": {
  "kernelspec": {
   "display_name": "Python 3",
   "language": "python",
   "name": "python3"
  },
  "language_info": {
   "codemirror_mode": {
    "name": "ipython",
    "version": 3
   },
   "file_extension": ".py",
   "mimetype": "text/x-python",
   "name": "python",
   "nbconvert_exporter": "python",
   "pygments_lexer": "ipython3",
   "version": "3.8.5"
  }
 },
 "nbformat": 4,
 "nbformat_minor": 4
}
